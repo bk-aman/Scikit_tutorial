{
 "cells": [
  {
   "cell_type": "markdown",
   "id": "2106d168",
   "metadata": {},
   "source": [
    "## Data Class"
   ]
  },
  {
   "cell_type": "code",
   "execution_count": 46,
   "id": "a4bd66af",
   "metadata": {},
   "outputs": [],
   "source": [
    "# as data gets messier it gets difficult to go through code so lets make a class \n",
    "class Sentiment:\n",
    "    NEGETIVE = \"NEGETIVE\"\n",
    "    POSITIVE = \"POSITIVE\"\n",
    "    NEUTRAL = \"NEUTRAL\"\n",
    "\n",
    "\n",
    "class Review:\n",
    "    def __init__(self,text,score):\n",
    "        self.text = text\n",
    "        self.score = score\n",
    "        self.sentiment = self.get_sentiment()\n",
    "        \n",
    "    def get_sentiment(self):\n",
    "        if self.score <= 2:\n",
    "            return Sentiment.NEGETIVE\n",
    "        elif self.score == 3:\n",
    "            return Sentiment.NEUTRAL\n",
    "        else:                           #4 or 5\n",
    "            return Sentiment.POSITIVE\n",
    "    \n",
    "    \n"
   ]
  },
  {
   "cell_type": "code",
   "execution_count": 47,
   "id": "c9e9faad",
   "metadata": {},
   "outputs": [
    {
     "data": {
      "text/plain": [
       "'G:\\\\code\\\\sklearn_tuts'"
      ]
     },
     "execution_count": 47,
     "metadata": {},
     "output_type": "execute_result"
    }
   ],
   "source": [
    "%pwd"
   ]
  },
  {
   "cell_type": "markdown",
   "id": "5e68256d",
   "metadata": {},
   "source": [
    "## Load Data"
   ]
  },
  {
   "cell_type": "code",
   "execution_count": 48,
   "id": "5d5d4509",
   "metadata": {
    "scrolled": false
   },
   "outputs": [
    {
     "data": {
      "text/plain": [
       "'It was a decent read.. typical story line. Nothing unsavory as so many are. Just a slice of life, plausible.'"
      ]
     },
     "execution_count": 48,
     "metadata": {},
     "output_type": "execute_result"
    }
   ],
   "source": [
    "import json\n",
    "\n",
    "file_name = 'G:\\\\code\\\\sklearn_tuts\\Scikit_tutorial\\data\\sentiment\\Books_small_10000.json'\n",
    "\n",
    "reviews = []\n",
    "\n",
    "with open(file_name) as f:\n",
    "    for line in f:\n",
    "        review  = json.loads(line)\n",
    "        reviews.append(Review(review['reviewText'], review['overall'])) #note how we use class to pass an object over here\n",
    "        \n",
    "reviews[4].text  #way to add up see list and then later in depth tuple\n"
   ]
  },
  {
   "cell_type": "markdown",
   "id": "1cca7074",
   "metadata": {},
   "source": [
    "Text data is not good for machine learning models, it majorly take data in matrices, so we convert string to text data, like for every word appearing make it a key of dictionary and use 1 and 0 for every thing sentance appearing"
   ]
  },
  {
   "cell_type": "markdown",
   "id": "7225c2e1",
   "metadata": {},
   "source": [
    "## Prep Data"
   ]
  },
  {
   "cell_type": "code",
   "execution_count": 49,
   "id": "8b07e090",
   "metadata": {},
   "outputs": [],
   "source": [
    "from sklearn.model_selection import train_test_split\n",
    "\n",
    "Training, Testing =  train_test_split(reviews, test_size = 0.33, random_state = 42)"
   ]
  },
  {
   "cell_type": "code",
   "execution_count": 31,
   "id": "8f3e26ed",
   "metadata": {},
   "outputs": [
    {
     "data": {
      "text/plain": [
       "6700"
      ]
     },
     "execution_count": 31,
     "metadata": {},
     "output_type": "execute_result"
    }
   ],
   "source": [
    "len(Training)"
   ]
  },
  {
   "cell_type": "code",
   "execution_count": 32,
   "id": "6c1111aa",
   "metadata": {},
   "outputs": [
    {
     "data": {
      "text/plain": [
       "3300"
      ]
     },
     "execution_count": 32,
     "metadata": {},
     "output_type": "execute_result"
    }
   ],
   "source": [
    "len(Testing)"
   ]
  },
  {
   "cell_type": "code",
   "execution_count": 35,
   "id": "2450cfbb",
   "metadata": {},
   "outputs": [
    {
     "data": {
      "text/plain": [
       "<__main__.Review at 0x199893659d0>"
      ]
     },
     "execution_count": 35,
     "metadata": {},
     "output_type": "execute_result"
    }
   ],
   "source": [
    "Training[1] #Output after class being made is a reference"
   ]
  },
  {
   "cell_type": "code",
   "execution_count": 50,
   "id": "db2319b7",
   "metadata": {},
   "outputs": [
    {
     "data": {
      "text/plain": [
       "'POSITIVE'"
      ]
     },
     "execution_count": 50,
     "metadata": {},
     "output_type": "execute_result"
    }
   ],
   "source": [
    "Training[1].sentiment"
   ]
  },
  {
   "cell_type": "markdown",
   "id": "2292212c",
   "metadata": {},
   "source": [
    "Always understand what are your input and outputs are"
   ]
  },
  {
   "cell_type": "code",
   "execution_count": 56,
   "id": "a800729c",
   "metadata": {},
   "outputs": [],
   "source": [
    "train_x = [Text.text for Text in Training]\n",
    "train_y = [Text.sentiment for Text in Training]\n",
    "\n",
    "test_x = [Text.text for Text in Testing]\n",
    "test_y = [Text.sentiment for Text in Testing]"
   ]
  },
  {
   "cell_type": "code",
   "execution_count": 52,
   "id": "259f13ab",
   "metadata": {},
   "outputs": [
    {
     "data": {
      "text/plain": [
       "'I enoyed reading Stormy Montana Sky by Debra Holland, a part of the Montana Sky Series. In fact, the book was so good I am now reading another book in the series and have the third waiting on my kindle.'"
      ]
     },
     "execution_count": 52,
     "metadata": {},
     "output_type": "execute_result"
    }
   ],
   "source": [
    "train_x[5]"
   ]
  },
  {
   "cell_type": "code",
   "execution_count": 53,
   "id": "76b20a70",
   "metadata": {},
   "outputs": [
    {
     "data": {
      "text/plain": [
       "4.0"
      ]
     },
     "execution_count": 53,
     "metadata": {},
     "output_type": "execute_result"
    }
   ],
   "source": [
    "train_y[5]"
   ]
  },
  {
   "cell_type": "markdown",
   "id": "642298b7",
   "metadata": {},
   "source": [
    "## Bag of word Vectorisation"
   ]
  },
  {
   "cell_type": "code",
   "execution_count": 70,
   "id": "419ef8a6",
   "metadata": {},
   "outputs": [
    {
     "name": "stdout",
     "output_type": "stream",
     "text": [
      "I enoyed reading Stormy Montana Sky by Debra Holland, a part of the Montana Sky Series. In fact, the book was so good I am now reading another book in the series and have the third waiting on my kindle.\n",
      "  (0, 23767)\t4\n",
      "  (0, 16595)\t1\n",
      "  (0, 16683)\t1\n",
      "  (0, 11974)\t2\n",
      "  (0, 1326)\t1\n",
      "  (0, 25742)\t1\n",
      "  (0, 15895)\t1\n",
      "  (0, 21943)\t1\n",
      "  (0, 10960)\t1\n",
      "  (0, 21105)\t2\n",
      "  (0, 3137)\t2\n",
      "  (0, 8133)\t1\n",
      "  (0, 19160)\t2\n",
      "  (0, 22703)\t1\n",
      "  (0, 15625)\t2\n",
      "  (0, 21705)\t2\n",
      "  (0, 3706)\t1\n",
      "  (0, 6261)\t1\n",
      "  (0, 11387)\t1\n",
      "  (0, 17233)\t1\n",
      "  (0, 8750)\t1\n",
      "  (0, 10283)\t1\n",
      "  (0, 1206)\t1\n",
      "  (0, 16417)\t1\n",
      "  (0, 1439)\t1\n",
      "  (0, 23874)\t1\n",
      "  (0, 25654)\t1\n",
      "  (0, 13352)\t1\n",
      "[[0 0 0 ... 0 0 0]]\n"
     ]
    }
   ],
   "source": [
    "from sklearn.feature_extraction.text import CountVectorizer\n",
    "\n",
    "vectorizer = CountVectorizer()\n",
    "\n",
    "train_x_vector = vectorizer.fit_transform(train_x) #earlier it was fit and trasform seperately\n",
    "\n",
    "print(train_x[5])\n",
    "print(train_x_vector[5]) #now a vector\n",
    "print(train_x_vector[5].toarray())\n",
    "\n",
    "\n"
   ]
  },
  {
   "cell_type": "markdown",
   "id": "2c179287",
   "metadata": {},
   "source": [
    "## Classification"
   ]
  },
  {
   "cell_type": "markdown",
   "id": "dd1e0a2f",
   "metadata": {},
   "source": [
    "There are lot of classifiers in sklearn.\n",
    "\n",
    "Which one to choose??\n",
    "\n",
    "Go through various resourses like mit lecture and other stuff to know better what is what\n",
    "\n",
    "A lot of time its about simply testing and knowing which is better"
   ]
  },
  {
   "cell_type": "markdown",
   "id": "6bc60bc1",
   "metadata": {},
   "source": [
    "#### Linear SVM"
   ]
  },
  {
   "cell_type": "code",
   "execution_count": 74,
   "id": "9189f3e6",
   "metadata": {},
   "outputs": [
    {
     "data": {
      "text/plain": [
       "array(['POSITIVE'], dtype='<U8')"
      ]
     },
     "execution_count": 74,
     "metadata": {},
     "output_type": "execute_result"
    }
   ],
   "source": [
    "from sklearn import svm\n",
    "clf_svm = svm.SVC(kernel = 'linear')\n",
    "clf_svm.fit(train_x_vector, train_y)\n",
    "\n",
    "clf_svm.predict(train_x_vector[0])"
   ]
  },
  {
   "cell_type": "markdown",
   "id": "359feea8",
   "metadata": {},
   "source": [
    "#### Decision Tree"
   ]
  },
  {
   "cell_type": "code",
   "execution_count": null,
   "id": "b7f7ce12",
   "metadata": {},
   "outputs": [],
   "source": [
    "from sklearn.tree import DecisionTreeClassifier\n"
   ]
  },
  {
   "cell_type": "code",
   "execution_count": null,
   "id": "c92d8f38",
   "metadata": {},
   "outputs": [],
   "source": []
  }
 ],
 "metadata": {
  "kernelspec": {
   "display_name": "Python 3 (ipykernel)",
   "language": "python",
   "name": "python3"
  },
  "language_info": {
   "codemirror_mode": {
    "name": "ipython",
    "version": 3
   },
   "file_extension": ".py",
   "mimetype": "text/x-python",
   "name": "python",
   "nbconvert_exporter": "python",
   "pygments_lexer": "ipython3",
   "version": "3.11.7"
  }
 },
 "nbformat": 4,
 "nbformat_minor": 5
}
