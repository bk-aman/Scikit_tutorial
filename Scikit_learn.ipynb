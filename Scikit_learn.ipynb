{
 "cells": [
  {
   "cell_type": "markdown",
   "id": "329487b8",
   "metadata": {},
   "source": [
    "### Load Data"
   ]
  },
  {
   "cell_type": "code",
   "execution_count": 4,
   "id": "d2caf700",
   "metadata": {},
   "outputs": [
    {
     "name": "stdout",
     "output_type": "stream",
     "text": [
      " Volume in drive G is Anand\n",
      " Volume Serial Number is 068A-CCB1\n",
      "\n",
      " Directory of G:\\code\\sklearn_tuts\n",
      "\n",
      "10-06-2024  08:15    <DIR>          .\n",
      "10-06-2024  08:15    <DIR>          ..\n",
      "10-06-2024  07:59    <DIR>          .ipynb_checkpoints\n",
      "29-09-2019  20:57    <DIR>          data\n",
      "10-06-2024  08:15             3,566 Scikit_learn.ipynb\n",
      "10-06-2024  08:10    <DIR>          sklearn-master\n",
      "10-06-2024  08:08         6,248,112 sklearn-master.zip\n",
      "               2 File(s)      6,251,678 bytes\n",
      "               5 Dir(s)  250,668,666,880 bytes free\n"
     ]
    }
   ],
   "source": [
    "%pwd\n",
    "%ls"
   ]
  },
  {
   "cell_type": "code",
   "execution_count": 25,
   "id": "17cf1873",
   "metadata": {},
   "outputs": [],
   "source": [
    "# as data gets messier it gets difficult to go through code so lets make a class \n",
    "class Sentiment:\n",
    "    NEGETIVE = \"NEGETIVE\"\n",
    "    POSITIVE = \"POSITIVE\"\n",
    "    NEUTRAL = \"NEUTRAL\"\n",
    "\n",
    "\n",
    "class Review:\n",
    "    def __init__(self,text,score):\n",
    "        self.text = text\n",
    "        self.score = score\n",
    "        self.sentiment = self.get_sentiment()\n",
    "        \n",
    "    def get_sentiment(self):\n",
    "        if self.score <= 2:\n",
    "            return Sentiment.NEGETIVE\n",
    "        elif self.score > 2 and self.score <= 4:\n",
    "            return Sentiment.NEUTRAL\n",
    "        else:\n",
    "            return Sentiment.POSITIVE\n",
    "    \n",
    "    \n"
   ]
  },
  {
   "cell_type": "code",
   "execution_count": 27,
   "id": "29fe01b3",
   "metadata": {
    "scrolled": false
   },
   "outputs": [
    {
     "data": {
      "text/plain": [
       "'It was a decent read.. typical story line. Nothing unsavory as so many are. Just a slice of life, plausible.'"
      ]
     },
     "execution_count": 27,
     "metadata": {},
     "output_type": "execute_result"
    }
   ],
   "source": [
    "import json\n",
    "\n",
    "file_name = '.\\data\\sentiment\\Books_small_10000.json'\n",
    "\n",
    "reviews = []\n",
    "\n",
    "with open(file_name) as f:\n",
    "    for line in f:\n",
    "        review  = json.loads(line)\n",
    "        reviews.append(Review(review['reviewText'], review['overall'])) #note how we use class to pass an object over here\n",
    "        \n",
    "reviews[4].text  #way to add up see list and then later in depth tuple\n"
   ]
  },
  {
   "cell_type": "markdown",
   "id": "6e6df720",
   "metadata": {},
   "source": [
    "Text data is not good for machine learning models, it majorly take data in matrices, so we convert string to text data, like for every word appearing make it a key of dictionary and use 1 and 0 for every thing sentance appearing"
   ]
  },
  {
   "cell_type": "markdown",
   "id": "ef09f369",
   "metadata": {},
   "source": [
    "## Prep Data"
   ]
  },
  {
   "cell_type": "code",
   "execution_count": 28,
   "id": "41946d57",
   "metadata": {},
   "outputs": [
    {
     "data": {
      "text/plain": [
       "10000"
      ]
     },
     "execution_count": 28,
     "metadata": {},
     "output_type": "execute_result"
    }
   ],
   "source": []
  },
  {
   "cell_type": "code",
   "execution_count": null,
   "id": "5c4c56a2",
   "metadata": {},
   "outputs": [],
   "source": []
  }
 ],
 "metadata": {
  "kernelspec": {
   "display_name": "Python 3 (ipykernel)",
   "language": "python",
   "name": "python3"
  },
  "language_info": {
   "codemirror_mode": {
    "name": "ipython",
    "version": 3
   },
   "file_extension": ".py",
   "mimetype": "text/x-python",
   "name": "python",
   "nbconvert_exporter": "python",
   "pygments_lexer": "ipython3",
   "version": "3.11.7"
  }
 },
 "nbformat": 4,
 "nbformat_minor": 5
}
